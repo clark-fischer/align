{
 "cells": [
  {
   "cell_type": "code",
   "execution_count": 31,
   "metadata": {},
   "outputs": [],
   "source": [
    "from PIL import Image\n",
    "import numpy as np\n",
    "import cv2\n",
    "import time\n",
    "import sys\n",
    "sys.setrecursionlimit(53000) # override needed for computing midpoints, which uses a recursive function\n",
    "Image.MAX_IMAGE_PIXELS = 366498276 # override is needed, or else it gives a DecompressionBombError"
   ]
  },
  {
   "cell_type": "code",
   "execution_count": 23,
   "metadata": {},
   "outputs": [],
   "source": [
    "layer_to_align = 7\n",
    "\n",
    "img_cy1 = Image.open('./originals/ImageARRAY4-CYCLE2.tif')\n",
    "img_cy1.seek(layer_to_align) # navigate to brightfield\n",
    "brightfield_cy1 = np.array(img_cy1)"
   ]
  },
  {
   "cell_type": "code",
   "execution_count": 24,
   "metadata": {},
   "outputs": [
    {
     "name": "stdout",
     "output_type": "stream",
     "text": [
      "(16126, 16526)\n",
      "(16526, 16526)\n"
     ]
    }
   ],
   "source": [
    "## padding\n",
    "y_cf1, x_cf1 = brightfield_cy1.shape\n",
    "\n",
    "y_max, x_max = 16526, 16526\n",
    "\n",
    "print(brightfield_cy1.shape)\n",
    "brightfield_cy1_padded = np.pad(brightfield_cy1, pad_width=((y_max-y_cf1, 0), (0, x_max-x_cf1)), mode = 'median')\n",
    "print(brightfield_cy1_padded.shape)"
   ]
  },
  {
   "cell_type": "code",
   "execution_count": 38,
   "metadata": {},
   "outputs": [
    {
     "name": "stdout",
     "output_type": "stream",
     "text": [
      "     Course shifting done in\n",
      "--- 1.274048089981079 seconds ---\n"
     ]
    }
   ],
   "source": [
    "\n",
    "start_time = time.time()\n",
    "\n",
    "## Shifting\n",
    "translation_cf2_to_cf1 = [-38.5, 62.5] \n",
    "\n",
    "\n",
    "translation_matrix = np.float32([ [1,0,translation_cf2_to_cf1[0]], [0,1,translation_cf2_to_cf1[1]] ])\n",
    "img_translation = cv2.warpAffine(brightfield_cy1, translation_matrix, brightfield_cy1.shape)\n",
    "\n",
    "\n",
    "## Rotating\n",
    "warp_dst = img_translation\n",
    "\n",
    "center = [1476.5, 1503.5]\n",
    "angle = - (.68)\n",
    "scale = 1\n",
    "rot_mat = cv2.getRotationMatrix2D( center, angle, scale )\n",
    "\n",
    "warp_rotate_dst = cv2.warpAffine(warp_dst, rot_mat, (warp_dst.shape[1], warp_dst.shape[0]))\n",
    "\n",
    "print(\"     Course shifting done in\\n--- %s seconds ---\" % (time.time() - start_time))"
   ]
  },
  {
   "cell_type": "code",
   "execution_count": 30,
   "metadata": {},
   "outputs": [],
   "source": [
    "################## SAVE IMAGE\n",
    "\n",
    "# im = Image.fromarray(warp_rotate_dst)\n",
    "# im.save(\"reduced2.tif\")"
   ]
  }
 ],
 "metadata": {
  "kernelspec": {
   "display_name": "Python 3.11.6 64-bit",
   "language": "python",
   "name": "python3"
  },
  "language_info": {
   "codemirror_mode": {
    "name": "ipython",
    "version": 3
   },
   "file_extension": ".py",
   "mimetype": "text/x-python",
   "name": "python",
   "nbconvert_exporter": "python",
   "pygments_lexer": "ipython3",
   "version": "3.11.6"
  },
  "orig_nbformat": 4,
  "vscode": {
   "interpreter": {
    "hash": "b0fa6594d8f4cbf19f97940f81e996739fb7646882a419484c72d19e05852a7e"
   }
  }
 },
 "nbformat": 4,
 "nbformat_minor": 2
}
